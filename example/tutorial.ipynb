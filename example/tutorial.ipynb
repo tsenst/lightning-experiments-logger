{
 "cells": [
  {
   "cell_type": "markdown",
   "source": [
    "# Introduction to Sagemaker Experiment Logger for PyTorch-Lightning\n",
    " This introduction shows the usage of the [SagemakerExperimentsLogger](https://tsenst.github.io/lightning-experiments-logger/api_logger.html#experiments_addon.logger.SagemakerExperimentsLogger) on the example of simple MNIST classification using [Trainer](https://lightning.ai/docs/pytorch/stable/common/trainer.html) class of the PyTorch Lightning API.\n",
    "\n",
    "## Setup\n",
    "To run the notebook to following packages have to be installed"
   ],
   "metadata": {
    "collapsed": false
   },
   "id": "a6382adb2e9321fb"
  },
  {
   "cell_type": "code",
   "execution_count": null,
   "outputs": [],
   "source": [
    "! pip install --quiet \"setuptools>=67.4.0\" \"scikit-learn>=1.3.1\" \"pytorch-lightning>=2.0.0\" \"sagemaker>=2.190.0\" \"torchvision>=0.16.0\" \"torchmetrics>=0.11.4\""
   ],
   "metadata": {
    "collapsed": false
   },
   "id": "dbab2a5fcd44247"
  },
  {
   "cell_type": "markdown",
   "source": [
    "## Prerequisite\n",
    "At first the dataset has to be loaded. The used model has been introduced by the [Simple MNIST Model](https://lightning.ai/docs/pytorch/stable/notebooks/lightning_examples/mnist-hello-world.html) example of the Pytorch-Lightning page.\n"
   ],
   "metadata": {
    "collapsed": false
   },
   "id": "aa2ca21a56d35b56"
  },
  {
   "cell_type": "code",
   "execution_count": null,
   "outputs": [],
   "source": [
    "import os\n",
    "\n",
    "from pytorch_lightning import Trainer\n",
    "from sagemaker.experiments.run import Run\n",
    "\n",
    "from example.model import MNISTModel\n",
    "from experiments_addon.logger import SagemakerExperimentsLogger\n",
    "\n",
    "PATH_DATASETS = os.environ.get(\"PATH_DATASETS\", \".\")\n",
    "mnist_model = MNISTModel(data_dir=PATH_DATASETS)"
   ],
   "metadata": {
    "collapsed": false
   },
   "id": "aa14243c283e2bbd"
  },
  {
   "cell_type": "markdown",
   "source": [
    "## How to Use\n",
    "The log with [SagemakerExperimentsLogger](https://github.com/tsenst/lightning-experiments-logger/blob/main/experiments_addon/logger.py#L44) to AWS SageMaker Experiments. Three different use cases will be discussed:\n",
    "1. Use logger inside the run context\n",
    "2. Explicitly passing *run_name* and *experiment_name*\n",
    "3. Use logger with other loggers\n",
    "\n",
    "Sagemaker Experiments are organized by experiments and run. A run is a subunit of an experiment. When tracking the metrics of a training run the run (given by *run_name*) and experiment (given by *experiment_name*  has to be provided. For the experiment tracking SageMake API defines a Run Context within the metric writing code has been implemented.\n",
    " \n",
    "### 1. A Logger within a Run Context\n",
    "For the use in notebook it is recommendation to [create a Run object](https://docs.aws.amazon.com/sagemaker/latest/dg/experiments-create.html). All log methods have to be called inside *with* statement. Because the *Trainer* calls the logger log methods internally, it needs to be within the *with* statement too. The *SagemakerExperimentLogger* object will be called without providing *experiment_name* and *run_name* since both properties are retrieved inside the logger from the run context. "
   ],
   "metadata": {
    "collapsed": false
   },
   "id": "ed02486be45a1910"
  },
  {
   "cell_type": "code",
   "execution_count": null,
   "outputs": [],
   "source": [
    "with Run(experiment_name=\"testExperiment\", run_name=\"testRun1\"):\n",
    "    logger = SagemakerExperimentsLogger()\n",
    "    trainer = Trainer(\n",
    "        logger=logger,\n",
    "        max_epochs=3,\n",
    "    )\n",
    "    trainer.fit(mnist_model)\n",
    "    trainer.test()"
   ],
   "metadata": {
    "collapsed": false
   },
   "id": "d9ddf90de3d36a90"
  },
  {
   "cell_type": "markdown",
   "source": [
    "If the logger will be applied inside a [Training Job](https://docs.aws.amazon.com/sagemaker/latest/dg/how-it-works-training.html) the logger can be called without any arguments, since the logger used the experiment configuration from the run context of the Training Job."
   ],
   "metadata": {
    "collapsed": false
   },
   "id": "1ef40cb478fcfea7"
  },
  {
   "cell_type": "markdown",
   "source": [
    "### 2. A Logger by Explicitly Passing in run_name and experiment_name\n",
    "There may be cases where the *with Run* statement is not practical. For that reason it is possible to obtain the run context at each log operation. To run the *SagemakerExperimentsLogger* without the *with* statement provide *experiment_name* and *run_name* when creating the object. "
   ],
   "metadata": {
    "collapsed": false
   },
   "id": "d5369298bd7b11fa"
  },
  {
   "cell_type": "code",
   "execution_count": null,
   "outputs": [],
   "source": [
    "logger = SagemakerExperimentsLogger(\n",
    "    experiment_name=\"TestExp\",\n",
    "    run_name=\"TestRun\"\n",
    ")\n",
    "\n",
    "trainer = Trainer(\n",
    "    logger=logger,\n",
    "    max_epochs=3,\n",
    ")\n",
    "trainer.fit(mnist_model)\n",
    "trainer.test()"
   ],
   "metadata": {
    "collapsed": false
   },
   "id": "988d53aea8aebfdc"
  },
  {
   "cell_type": "markdown",
   "source": [
    "### 3. Multiple Loggers\n",
    "PyTorch Lightning *Trainer* class allows to apply multiple model. To do so pass a list of logger to the *Trainer* object."
   ],
   "metadata": {
    "collapsed": false
   },
   "id": "e9389c7232f9d9b0"
  },
  {
   "cell_type": "code",
   "execution_count": null,
   "outputs": [],
   "source": [
    "from pytorch_lightning.loggers import TensorBoardLogger\n",
    "\n",
    "tensorboard_logger = TensorBoardLogger()\n",
    "with Run(experiment_name=\"testExperiment\", run_name=\"testRun2\"):\n",
    "    logger = SagemakerExperimentsLogger()\n",
    "    trainer = Trainer(\n",
    "        logger=[logger, tensorboard_logger],\n",
    "        max_epochs=3,\n",
    "    )\n",
    "    trainer.fit(mnist_model)\n",
    "    trainer.test()"
   ],
   "metadata": {
    "collapsed": false
   },
   "id": "c89880b99381ba5a"
  },
  {
   "cell_type": "markdown",
   "source": [
    "## Conclusion\n",
    "Congratulations! You have trained a MNSIT model and logged the evaluation metrics and hyperparameters to SageMaker Experiment API. You should now be able to see the plots in the SageMaker Studio of your AWS account. "
   ],
   "metadata": {
    "collapsed": false
   },
   "id": "6b84f083afb34506"
  },
  {
   "cell_type": "code",
   "execution_count": null,
   "outputs": [],
   "source": [],
   "metadata": {
    "collapsed": false
   },
   "id": "2f099d4e2f0dc403"
  }
 ],
 "metadata": {
  "kernelspec": {
   "display_name": "Python 3",
   "language": "python",
   "name": "python3"
  },
  "language_info": {
   "codemirror_mode": {
    "name": "ipython",
    "version": 2
   },
   "file_extension": ".py",
   "mimetype": "text/x-python",
   "name": "python",
   "nbconvert_exporter": "python",
   "pygments_lexer": "ipython2",
   "version": "2.7.6"
  }
 },
 "nbformat": 4,
 "nbformat_minor": 5
}
