{
 "cells": [
  {
   "cell_type": "markdown",
   "source": [
    "# Sagemaker Experiment Logger for PyTorch-Lightning\n",
    " "
   ],
   "metadata": {
    "collapsed": false
   },
   "id": "a6382adb2e9321fb"
  },
  {
   "cell_type": "code",
   "execution_count": null,
   "outputs": [],
   "source": [
    "import os\n",
    "\n",
    "from pytorch_lightning import Trainer\n",
    "from pytorch_lightning.loggers import TensorBoardLogger\n",
    "from sagemaker.experiments.run import Run\n",
    "\n",
    "from example.model import MNISTModel\n",
    "from experiments_addon.logger import SagemakerExperimentsLogger\n",
    "\n",
    "PATH_DATASETS = os.environ.get(\"PATH_DATASETS\", \".\")\n",
    "mnist_model = MNISTModel(data_dir=PATH_DATASETS)"
   ],
   "metadata": {
    "collapsed": false
   },
   "id": "aa14243c283e2bbd"
  },
  {
   "cell_type": "markdown",
   "source": [
    "## Use SagemakerExperimentsLogger by explicitly passing in run_name and experiment_name"
   ],
   "metadata": {
    "collapsed": false
   },
   "id": "ed02486be45a1910"
  },
  {
   "cell_type": "code",
   "execution_count": null,
   "outputs": [],
   "source": [
    "sagemaker_logger = SagemakerExperimentsLogger(\n",
    "    experiment_name=\"TestExp\",\n",
    "    run_name=\"TestRun\"\n",
    ")\n",
    "\n",
    "trainer = Trainer(\n",
    "    logger=sagemaker_logger,\n",
    "    accelerator=\"auto\",\n",
    "    devices=1,\n",
    "    max_epochs=3,\n",
    ")"
   ],
   "metadata": {
    "collapsed": false
   },
   "id": "988d53aea8aebfdc"
  },
  {
   "cell_type": "markdown",
   "source": [
    "## Use the SagemakerExperimentsLogger in a notebook within a run context"
   ],
   "metadata": {
    "collapsed": false
   },
   "id": "f899e9ec180599e5"
  },
  {
   "cell_type": "code",
   "execution_count": null,
   "outputs": [],
   "source": [
    "with Run(experiment_name=\"testExperiment\", run_name=\"testRun1\") as _:\n",
    "    logger = SagemakerExperimentsLogger()\n",
    "    trainer = Trainer(logger=logger)"
   ],
   "metadata": {
    "collapsed": false
   },
   "id": "8d6e53e6d4b66fa1"
  },
  {
   "cell_type": "markdown",
   "source": [
    "## Use the SagemakerExperimentsLogger in a notebook with other logger"
   ],
   "metadata": {
    "collapsed": false
   },
   "id": "e9389c7232f9d9b0"
  },
  {
   "cell_type": "code",
   "execution_count": null,
   "outputs": [],
   "source": [
    "tensorboard_logger = TensorBoardLogger()\n",
    "with Run(experiment_name=\"testExperiment\", run_name=\"testRun2\") as _:\n",
    "    logger = SagemakerExperimentsLogger()\n",
    "    trainer = Trainer(logger=[logger, tensorboard_logger])"
   ],
   "metadata": {
    "collapsed": false
   },
   "id": "c89880b99381ba5a"
  }
 ],
 "metadata": {
  "kernelspec": {
   "display_name": "Python 3",
   "language": "python",
   "name": "python3"
  },
  "language_info": {
   "codemirror_mode": {
    "name": "ipython",
    "version": 2
   },
   "file_extension": ".py",
   "mimetype": "text/x-python",
   "name": "python",
   "nbconvert_exporter": "python",
   "pygments_lexer": "ipython2",
   "version": "2.7.6"
  }
 },
 "nbformat": 4,
 "nbformat_minor": 5
}
